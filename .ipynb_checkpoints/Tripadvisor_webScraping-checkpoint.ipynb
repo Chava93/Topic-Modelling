{
 "cells": [
  {
   "cell_type": "code",
   "execution_count": 131,
   "metadata": {
    "collapsed": true
   },
   "outputs": [],
   "source": [
    "from bs4 import BeautifulSoup\n",
    "import requests\n",
    "import pandas as pd\n",
    "import matplotlib.pyplot as plt\n",
    "%matplotlib inline"
   ]
  },
  {
   "cell_type": "markdown",
   "metadata": {},
   "source": [
    "## Descargar información de TripAdvisor\n",
    "El siguiente código itera sobre todas las páginas de tripAdvisor que contienen los reviews acerca de Paseo de la reforma y extrae los campos que nos interesan que son: El número de estrellas, el título del comentario y el comentario"
   ]
  },
  {
   "cell_type": "code",
   "execution_count": 85,
   "metadata": {
    "collapsed": true
   },
   "outputs": [],
   "source": [
    "results = pd.DataFrame()\n",
    "for page in range(460):\n",
    "    url = 'https://www.tripadvisor.com/Attraction_Review-g150800-d152798'+'-or{}'.format(page*10)+ '.html'\n",
    "    page = requests.get(url)\n",
    "    soup = BeautifulSoup(page.content,'html.parser')\n",
    "    title = [a.find('span').contents[0] for a in soup.find_all('div',class_='quote')]\n",
    "    stars = [a.find('div',class_ = 'ui_column is-9').contents[0] for a in soup.find_all('div',class_ = 'review-container')]\n",
    "    comment = [a.contents[0] for a in soup.find_all('p',class_ = 'partial_entry')]\n",
    "    a = pd.DataFrame({'title': title,'comment':comment,'stars':stars})\n",
    "    results = results.append(a)"
   ]
  },
  {
   "cell_type": "markdown",
   "metadata": {},
   "source": [
    "Limpiar la base, extraer el rating porque en el paso anterior se extrae en un formato extraño"
   ]
  },
  {
   "cell_type": "code",
   "execution_count": 126,
   "metadata": {},
   "outputs": [
    {
     "name": "stderr",
     "output_type": "stream",
     "text": [
      "C:\\Users\\Scastaneda01\\AppData\\Local\\Continuum\\anaconda3\\lib\\site-packages\\ipykernel_launcher.py:3: FutureWarning: currently extract(expand=None) means expand=False (return Index/Series/DataFrame) but in a future version of pandas this will be changed to expand=True (return DataFrame)\n",
      "  This is separate from the ipykernel package so we can avoid doing imports until\n"
     ]
    }
   ],
   "source": [
    "results = ( results\n",
    "           .reset_index()\n",
    "           .assign(rating = lambda df: df['stars'].map(lambda x: str(x)).str.extract('([0-9]+)'))\n",
    "           .drop(['index','stars'],axis=1)\n",
    "          )"
   ]
  },
  {
   "cell_type": "code",
   "execution_count": 135,
   "metadata": {},
   "outputs": [
    {
     "data": {
      "image/png": "[encoded data removed]",
      "text/plain": [
       "<matplotlib.figure.Figure at 0x12de190b908>"
      ]
     },
     "metadata": {},
     "output_type": "display_data"
    }
   ],
   "source": [
    "results['rating'].value_counts().plot(kind='bar',title='Número de registros por rating');"
   ]
  },
  {
   "cell_type": "code",
   "execution_count": 136,
   "metadata": {
    "collapsed": true
   },
   "outputs": [],
   "source": [
    "results.to_csv('reviews.csv')"
   ]
  }
 ],
 "metadata": {
  "kernelspec": {
   "display_name": "Python 3",
   "language": "python",
   "name": "python3"
  },
  "language_info": {
   "codemirror_mode": {
    "name": "ipython",
    "version": 3
   },
   "file_extension": ".py",
   "mimetype": "text/x-python",
   "name": "python",
   "nbconvert_exporter": "python",
   "pygments_lexer": "ipython3",
   "version": "3.6.3"
  }
 },
 "nbformat": 4,
 "nbformat_minor": 2
}
